{
 "cells": [
  {
   "cell_type": "code",
   "execution_count": 46,
   "metadata": {},
   "outputs": [],
   "source": [
    "def makelabel(label):\n",
    "    if label == '':\n",
    "        return ''\n",
    "    else:\n",
    "        return f'[{label}]'\n",
    "def makecrit(crit):\n",
    "    if crit == '':\n",
    "        return ''\n",
    "    else:\n",
    "        return f'cs>{crit}'\n",
    "    \n",
    "def dice(dicenumber = '1', dicetype = '6', dicebonus = '0', label = '', crit = ''):\n",
    "    return f'{dicenumber}d{dicetype}{makecrit(crit)}+{dicebonus}{makelabel(label)}'\n",
    "\n",
    "def inroll(rolls = ['3d6+3[fire]',]):\n",
    "    formula = rolls[0]\n",
    "    if len(rolls)>1:\n",
    "        for roll in rolls[1:]:\n",
    "            if roll != '':\n",
    "                formula += '+'+roll        \n",
    "    return f'[[{formula}]]'"
   ]
  },
  {
   "cell_type": "code",
   "execution_count": 17,
   "metadata": {},
   "outputs": [
    {
     "data": {
      "text/plain": [
       "'[[3d10cs>18+-3[fuego]+3d10cs>18+-3[fuego]+3d10cs>18+-3[fuego]]]'"
      ]
     },
     "execution_count": 17,
     "metadata": {},
     "output_type": "execute_result"
    }
   ],
   "source": [
    "bolafue = dice(3,10,-3,'fuego',18)\n",
    "inroll([bolafue,bolafue,bolafue])"
   ]
  },
  {
   "cell_type": "code",
   "execution_count": 49,
   "metadata": {},
   "outputs": [],
   "source": [
    "def query(message = 'valor', default = 0):\n",
    "    return f'?{{{message}|{default}}}'"
   ]
  },
  {
   "cell_type": "code",
   "execution_count": 50,
   "metadata": {},
   "outputs": [
    {
     "data": {
      "text/plain": [
       "'?{bonus|0}'"
      ]
     },
     "execution_count": 50,
     "metadata": {},
     "output_type": "execute_result"
    }
   ],
   "source": [
    "query('bonus')"
   ]
  },
  {
   "cell_type": "code",
   "execution_count": 78,
   "metadata": {},
   "outputs": [],
   "source": [
    "def leveldeeper(formula):\n",
    "    formula = formula.replace('&','&amp;')\n",
    "    formula = formula.replace('\\n  ','\\n    ')\n",
    "    formula = formula.replace('|','&#124;')\n",
    "    formula = formula.replace(',','&#44;')\n",
    "    formula = formula.replace('}','&#125;')\n",
    "    return formula"
   ]
  },
  {
   "cell_type": "code",
   "execution_count": 79,
   "metadata": {},
   "outputs": [],
   "source": [
    "def dropdown(message = 'select', options = ['option1',], labels = []):\n",
    "    formula = f'?{{{message}'\n",
    "    if len(labels) == len(options):\n",
    "        for ii in range(len(options)):\n",
    "            formula += f'|\\n  {leveldeeper(labels[ii])}, {leveldeeper(options[ii])}'\n",
    "    else:\n",
    "        for ii in range(len(options)):\n",
    "            formula += f'|\\n  {leveldeeper(options[ii])}'\n",
    "    formula += '}'\n",
    "    return formula"
   ]
  },
  {
   "cell_type": "code",
   "execution_count": 80,
   "metadata": {},
   "outputs": [
    {
     "name": "stdout",
     "output_type": "stream",
     "text": [
      "?{select|\n",
      "  option1|\n",
      "  option2|\n",
      "  option3|\n",
      "  option4|\n",
      "  option5}\n"
     ]
    }
   ],
   "source": [
    "print(dropdown(options = ['option'+str(ii+1) for ii in range(5)]))"
   ]
  },
  {
   "cell_type": "code",
   "execution_count": 81,
   "metadata": {},
   "outputs": [
    {
     "name": "stdout",
     "output_type": "stream",
     "text": [
      "?{select|\n",
      "  option1|\n",
      "  option2|\n",
      "  option3}\n"
     ]
    }
   ],
   "source": [
    "drop3 = dropdown(options = ['option'+str(ii+1) for ii in range(3)])\n",
    "print(drop3)"
   ]
  },
  {
   "cell_type": "code",
   "execution_count": 82,
   "metadata": {},
   "outputs": [
    {
     "name": "stdout",
     "output_type": "stream",
     "text": [
      "?{select|\n",
      "  option1, ?{select&#124;\n",
      "    option1&#124;\n",
      "    option2&#124;\n",
      "    option3&#125;|\n",
      "  option2, ?{select&#124;\n",
      "    option1&#124;\n",
      "    option2&#124;\n",
      "    option3&#125;|\n",
      "  option3, ?{select&#124;\n",
      "    option1&#124;\n",
      "    option2&#124;\n",
      "    option3&#125;|\n",
      "  option4, ?{select&#124;\n",
      "    option1&#124;\n",
      "    option2&#124;\n",
      "    option3&#125;}\n"
     ]
    }
   ],
   "source": [
    "print(dropdown(options = [drop3 for ii in range(4)], labels = ['option'+str(ii+1) for ii in range(4)]))"
   ]
  },
  {
   "cell_type": "code",
   "execution_count": 83,
   "metadata": {},
   "outputs": [],
   "source": [
    "def atribute(pj,varname,label = ''):\n",
    "    return f'[[@{{{pj}|{varname}}}{makelabel(label)}]]'"
   ]
  },
  {
   "cell_type": "code",
   "execution_count": 84,
   "metadata": {},
   "outputs": [
    {
     "data": {
      "text/plain": [
       "'[[@{Paco|str_mod}[Fuerza]]]'"
      ]
     },
     "execution_count": 84,
     "metadata": {},
     "output_type": "execute_result"
    }
   ],
   "source": [
    "atribute('Paco', 'str_mod', 'Fuerza')"
   ]
  },
  {
   "cell_type": "markdown",
   "metadata": {},
   "source": [
    "## Ejemplo"
   ]
  },
  {
   "cell_type": "code",
   "execution_count": 99,
   "metadata": {},
   "outputs": [],
   "source": [
    "tipoataque_labels = [\n",
    "    'Normal',\n",
    "    'Pericias',\n",
    "    'Defensa max'\n",
    "]\n",
    "tipoataque_options = [\n",
    "    '',\n",
    "    '-5[pericias]',\n",
    "    '-9[combate defensivo]'\n",
    "]\n",
    "tipoataque_msgs = [\n",
    "    'Ataque normal',\n",
    "    'Ataque con pericia, AC+5',\n",
    "    'Ataque a la defensiva, AC+7'\n",
    "]\n",
    "bonusdrop = dropdown('Tipo de ataque', tipoataque_options, tipoataque_labels)\n",
    "msgdrop = dropdown('Tipo de ataque (mensaje)', tipoataque_msgs, tipoataque_labels)"
   ]
  },
  {
   "cell_type": "code",
   "execution_count": 100,
   "metadata": {},
   "outputs": [
    {
     "name": "stdout",
     "output_type": "stream",
     "text": [
      "?{Tipo de ataque|\n",
      "  Normal, |\n",
      "  Pericias, -5[pericias]|\n",
      "  Defensa max, -9[combate defensivo]}\n"
     ]
    }
   ],
   "source": [
    "print(bonusdrop)"
   ]
  },
  {
   "cell_type": "markdown",
   "metadata": {},
   "source": [
    "# OJO\n",
    "Es necesario utilizar un placeholder en el lugar del atributo, porque Roll20 parsea en primer lugar los atributos, y se desconfigurarían"
   ]
  },
  {
   "cell_type": "code",
   "execution_count": 101,
   "metadata": {},
   "outputs": [],
   "source": [
    "atk_var = 'placeholder_atk'\n",
    "roll_ballesta = inroll([\n",
    "    dice(1,20,atk_var,'',19),\n",
    "    '1[arma buena]',\n",
    "    query('bonus'),\n",
    "])\n",
    "msg_ballesta = '\\nCrítico: 19-20 x2'\n",
    "\n",
    "roll_estoque = inroll([\n",
    "    dice(1,20,atk_var,'',18),\n",
    "    '1[arma mágica]',\n",
    "    query('bonus'),\n",
    "    bonusdrop,\n",
    "])\n",
    "msg_estoque = '\\nCrítico: 18-20 x2\\n' + msgdrop\n",
    "\n",
    "roll_daga = inroll([\n",
    "    dice(1,20,atk_var,'',19),\n",
    "    '1[arma mágica]',\n",
    "    query('bonus'),\n",
    "    bonusdrop,\n",
    "])\n",
    "msg_daga = '\\nCrítico: 19-20 x2\\n' + msgdrop"
   ]
  },
  {
   "cell_type": "code",
   "execution_count": 102,
   "metadata": {},
   "outputs": [
    {
     "name": "stdout",
     "output_type": "stream",
     "text": [
      "[[1d20cs>19+placeholder_atk+1[arma mágica]+?{bonus|0}+?{Tipo de ataque|\n",
      "  Normal, |\n",
      "  Pericias, -5[pericias]|\n",
      "  Defensa max, -9[combate defensivo]}]]\n"
     ]
    }
   ],
   "source": [
    "print(roll_daga)"
   ]
  },
  {
   "cell_type": "code",
   "execution_count": 103,
   "metadata": {},
   "outputs": [],
   "source": [
    "arma_labels=[\n",
    "    'Ballesta',\n",
    "    'Estoque',\n",
    "    'Daga'\n",
    "]\n",
    "arma_options = [\n",
    "    'Ataque con Ballesta Pesada:\\n' + roll_ballesta + msg_ballesta,\n",
    "    'Ataque con Estoque Mágico:\\n' + roll_estoque + msg_estoque,\n",
    "    'Ataque con Daga Sagrada:\\n' + roll_daga + msg_daga,\n",
    "]\n",
    "atk_drop = dropdown('Tipo de arma', arma_options, arma_labels)"
   ]
  },
  {
   "cell_type": "code",
   "execution_count": 104,
   "metadata": {},
   "outputs": [
    {
     "name": "stdout",
     "output_type": "stream",
     "text": [
      "?{Tipo de arma|\n",
      "  Ballesta, Ataque con Ballesta Pesada:\n",
      "[[1d20cs>19+placeholder_atk+1[arma buena]+?{bonus&#124;0&#125;]]\n",
      "Crítico: 19-20 x2|\n",
      "  Estoque, Ataque con Estoque Mágico:\n",
      "[[1d20cs>18+placeholder_atk+1[arma mágica]+?{bonus&#124;0&#125;+?{Tipo de ataque&#124;\n",
      "    Normal&#44; &#124;\n",
      "    Pericias&#44; -5[pericias]&#124;\n",
      "    Defensa max&#44; -9[combate defensivo]&#125;]]\n",
      "Crítico: 18-20 x2\n",
      "?{Tipo de ataque (mensaje)&#124;\n",
      "    Normal&#44; Ataque normal&#124;\n",
      "    Pericias&#44; Ataque con pericia&amp;#44; AC+5&#124;\n",
      "    Defensa max&#44; Ataque a la defensiva&amp;#44; AC+7&#125;|\n",
      "  Daga, Ataque con Daga Sagrada:\n",
      "[[1d20cs>19+placeholder_atk+1[arma mágica]+?{bonus&#124;0&#125;+?{Tipo de ataque&#124;\n",
      "    Normal&#44; &#124;\n",
      "    Pericias&#44; -5[pericias]&#124;\n",
      "    Defensa max&#44; -9[combate defensivo]&#125;]]\n",
      "Crítico: 19-20 x2\n",
      "?{Tipo de ataque (mensaje)&#124;\n",
      "    Normal&#44; Ataque normal&#124;\n",
      "    Pericias&#44; Ataque con pericia&amp;#44; AC+5&#124;\n",
      "    Defensa max&#44; Ataque a la defensiva&amp;#44; AC+7&#125;}\n"
     ]
    }
   ],
   "source": [
    "print(atk_drop)"
   ]
  },
  {
   "cell_type": "markdown",
   "metadata": {},
   "source": [
    "## Ahora ya sí\n",
    "Con la macro terminada, se puede sustituir el placeholder por el atributo bueno"
   ]
  },
  {
   "cell_type": "code",
   "execution_count": 105,
   "metadata": {},
   "outputs": [
    {
     "name": "stdout",
     "output_type": "stream",
     "text": [
      "?{Tipo de arma|\n",
      "  Ballesta, Ataque con Ballesta Pesada:\n",
      "[[1d20cs>19+[[@{Goblin|strength_mod}]]+1[arma buena]+?{bonus&#124;0&#125;]]\n",
      "Crítico: 19-20 x2|\n",
      "  Estoque, Ataque con Estoque Mágico:\n",
      "[[1d20cs>18+[[@{Goblin|strength_mod}]]+1[arma mágica]+?{bonus&#124;0&#125;+?{Tipo de ataque&#124;\n",
      "    Normal&#44; &#124;\n",
      "    Pericias&#44; -5[pericias]&#124;\n",
      "    Defensa max&#44; -9[combate defensivo]&#125;]]\n",
      "Crítico: 18-20 x2\n",
      "?{Tipo de ataque (mensaje)&#124;\n",
      "    Normal&#44; Ataque normal&#124;\n",
      "    Pericias&#44; Ataque con pericia&amp;#44; AC+5&#124;\n",
      "    Defensa max&#44; Ataque a la defensiva&amp;#44; AC+7&#125;|\n",
      "  Daga, Ataque con Daga Sagrada:\n",
      "[[1d20cs>19+[[@{Goblin|strength_mod}]]+1[arma mágica]+?{bonus&#124;0&#125;+?{Tipo de ataque&#124;\n",
      "    Normal&#44; &#124;\n",
      "    Pericias&#44; -5[pericias]&#124;\n",
      "    Defensa max&#44; -9[combate defensivo]&#125;]]\n",
      "Crítico: 19-20 x2\n",
      "?{Tipo de ataque (mensaje)&#124;\n",
      "    Normal&#44; Ataque normal&#124;\n",
      "    Pericias&#44; Ataque con pericia&amp;#44; AC+5&#124;\n",
      "    Defensa max&#44; Ataque a la defensiva&amp;#44; AC+7&#125;}\n"
     ]
    }
   ],
   "source": [
    "print(atk_drop.replace(atk_var, atribute('Goblin', 'strength_mod')))"
   ]
  },
  {
   "cell_type": "code",
   "execution_count": null,
   "metadata": {},
   "outputs": [],
   "source": []
  },
  {
   "cell_type": "code",
   "execution_count": null,
   "metadata": {},
   "outputs": [],
   "source": []
  },
  {
   "cell_type": "code",
   "execution_count": null,
   "metadata": {},
   "outputs": [],
   "source": []
  },
  {
   "cell_type": "code",
   "execution_count": null,
   "metadata": {},
   "outputs": [],
   "source": []
  },
  {
   "cell_type": "code",
   "execution_count": null,
   "metadata": {},
   "outputs": [],
   "source": []
  },
  {
   "cell_type": "code",
   "execution_count": null,
   "metadata": {},
   "outputs": [],
   "source": []
  },
  {
   "cell_type": "code",
   "execution_count": null,
   "metadata": {},
   "outputs": [],
   "source": []
  }
 ],
 "metadata": {
  "kernelspec": {
   "display_name": "Python 3",
   "language": "python",
   "name": "python3"
  },
  "language_info": {
   "codemirror_mode": {
    "name": "ipython",
    "version": 3
   },
   "file_extension": ".py",
   "mimetype": "text/x-python",
   "name": "python",
   "nbconvert_exporter": "python",
   "pygments_lexer": "ipython3",
   "version": "3.7.7"
  }
 },
 "nbformat": 4,
 "nbformat_minor": 4
}

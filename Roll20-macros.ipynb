{
 "cells": [
  {
   "cell_type": "markdown",
   "metadata": {},
   "source": [
    "## Creando Macros anidadas de Roll20\n",
    "\n",
    "Primero, he aquí unas pequeñas funciones de prueba para generar tiradas inline"
   ]
  },
  {
   "cell_type": "code",
   "execution_count": 1,
   "metadata": {},
   "outputs": [],
   "source": [
    "def makelabel(label):\n",
    "    if label == '':\n",
    "        return ''\n",
    "    else:\n",
    "        return f'[{label}]'\n",
    "def makecrit(crit):\n",
    "    if crit == '':\n",
    "        return ''\n",
    "    else:\n",
    "        return f'cs>{crit}'\n",
    "    \n",
    "def dice(dicenumber = '1', dicetype = '6', dicebonus = '0', label = '', crit = ''):\n",
    "    return f'{dicenumber}d{dicetype}{makecrit(crit)}+{dicebonus}{makelabel(label)}'\n",
    "\n",
    "def inroll(rolls = ['1d8+5[cortante]','3d6+3[fuego]',]):\n",
    "    formula = rolls[0]\n",
    "    if len(rolls)>1:\n",
    "        for roll in rolls[1:]:\n",
    "            if roll != '':\n",
    "                formula += '+'+roll        \n",
    "    return f'[[{formula}]]'"
   ]
  },
  {
   "cell_type": "code",
   "execution_count": 2,
   "metadata": {},
   "outputs": [
    {
     "data": {
      "text/plain": [
       "'[[1d8+5[cortante]+3d6+3[fuego]]]'"
      ]
     },
     "execution_count": 2,
     "metadata": {},
     "output_type": "execute_result"
    }
   ],
   "source": [
    "inroll()"
   ]
  },
  {
   "cell_type": "code",
   "execution_count": 3,
   "metadata": {},
   "outputs": [
    {
     "data": {
      "text/plain": [
       "'[[3d10cs>18+-3[fuego]+3d10cs>18+-3[fuego]+3d10cs>18+-3[fuego]]]'"
      ]
     },
     "execution_count": 3,
     "metadata": {},
     "output_type": "execute_result"
    }
   ],
   "source": [
    "bolafue = dice(3,10,-3,'fuego',18)\n",
    "inroll([bolafue,bolafue,bolafue])"
   ]
  },
  {
   "cell_type": "markdown",
   "metadata": {},
   "source": [
    "### La clave del asunto\n",
    "Esta función reemplaza caracteres especiales de las macros para permitir operaciones anidadas"
   ]
  },
  {
   "cell_type": "code",
   "execution_count": 4,
   "metadata": {},
   "outputs": [],
   "source": [
    "def leveldeeper(formula):\n",
    "    formula = formula.replace('&','&amp;')\n",
    "    formula = formula.replace('\\n  ','\\n    ')\n",
    "    formula = formula.replace('|','&#124;')\n",
    "    formula = formula.replace(',','&#44;')\n",
    "    formula = formula.replace('}','&#125;')\n",
    "    return formula"
   ]
  },
  {
   "cell_type": "markdown",
   "metadata": {},
   "source": [
    "### Querys y menús desplegables\n",
    "Usando la función anterior, podemos anidar unos dentro de otros a placer"
   ]
  },
  {
   "cell_type": "code",
   "execution_count": 5,
   "metadata": {},
   "outputs": [],
   "source": [
    "def query(message = 'valor', default = '0'):\n",
    "    return f'?{{{leveldeeper(message)}|{leveldeeper(default)}}}'"
   ]
  },
  {
   "cell_type": "code",
   "execution_count": 6,
   "metadata": {},
   "outputs": [],
   "source": [
    "def dropdown(message = 'select', options = ['option1',], labels = []):\n",
    "    formula = f'?{{{leveldeeper(message)}'\n",
    "    if len(labels) == len(options):\n",
    "        for ii in range(len(options)):\n",
    "            formula += f'|\\n  {leveldeeper(labels[ii])}, {leveldeeper(options[ii])}'\n",
    "    else:\n",
    "        for ii in range(len(options)):\n",
    "            formula += f'|\\n  {leveldeeper(options[ii])}'\n",
    "    formula += '}'\n",
    "    return formula"
   ]
  },
  {
   "cell_type": "code",
   "execution_count": 7,
   "metadata": {},
   "outputs": [
    {
     "data": {
      "text/plain": [
       "'?{bonus|0}'"
      ]
     },
     "execution_count": 7,
     "metadata": {},
     "output_type": "execute_result"
    }
   ],
   "source": [
    "query('bonus')"
   ]
  },
  {
   "cell_type": "code",
   "execution_count": 8,
   "metadata": {},
   "outputs": [
    {
     "name": "stdout",
     "output_type": "stream",
     "text": [
      "?{select|\n",
      "  option1|\n",
      "  option2|\n",
      "  option3}\n"
     ]
    }
   ],
   "source": [
    "drop3 = dropdown(options = ['option'+str(ii+1) for ii in range(3)])\n",
    "print(drop3)"
   ]
  },
  {
   "cell_type": "code",
   "execution_count": 9,
   "metadata": {},
   "outputs": [
    {
     "name": "stdout",
     "output_type": "stream",
     "text": [
      "?{select|\n",
      "  option1, ?{select&#124;\n",
      "    option1&#124;\n",
      "    option2&#124;\n",
      "    option3&#125;|\n",
      "  option2, ?{select&#124;\n",
      "    option1&#124;\n",
      "    option2&#124;\n",
      "    option3&#125;|\n",
      "  option3, ?{select&#124;\n",
      "    option1&#124;\n",
      "    option2&#124;\n",
      "    option3&#125;|\n",
      "  option4, ?{select&#124;\n",
      "    option1&#124;\n",
      "    option2&#124;\n",
      "    option3&#125;}\n"
     ]
    }
   ],
   "source": [
    "print(dropdown(options = [drop3 for ii in range(4)], labels = ['option'+str(ii+1) for ii in range(4)]))"
   ]
  },
  {
   "cell_type": "markdown",
   "metadata": {},
   "source": [
    "### Atributos\n",
    "Permiten referenciar valores de una ficha de personaje en las fórmulas\n",
    "\n",
    "#### CUIDADO\n",
    "Los atributos se parsean antes que el resto de la expresión, así que no pueden usarse directamente, debe usarse un placeholder y después sustituirse"
   ]
  },
  {
   "cell_type": "code",
   "execution_count": 10,
   "metadata": {},
   "outputs": [],
   "source": [
    "def atribute(pj,varname,label = ''):\n",
    "    return f'[[@{{{pj}|{varname}}}{makelabel(label)}]]'"
   ]
  },
  {
   "cell_type": "code",
   "execution_count": 11,
   "metadata": {},
   "outputs": [
    {
     "data": {
      "text/plain": [
       "'[[@{Paco|str_mod}[Fuerza]]]'"
      ]
     },
     "execution_count": 11,
     "metadata": {},
     "output_type": "execute_result"
    }
   ],
   "source": [
    "atribute('Paco', 'str_mod', 'Fuerza')"
   ]
  },
  {
   "cell_type": "markdown",
   "metadata": {},
   "source": [
    "## Ejemplo"
   ]
  },
  {
   "cell_type": "code",
   "execution_count": 12,
   "metadata": {},
   "outputs": [],
   "source": [
    "tipoataque_labels = [\n",
    "    'Normal',\n",
    "    'Pericias',\n",
    "    'Defensa max'\n",
    "]\n",
    "tipoataque_options = [\n",
    "    '',\n",
    "    '-5[pericias]',\n",
    "    '-9[combate defensivo]'\n",
    "]\n",
    "tipoataque_msgs = [\n",
    "    'Ataque normal',\n",
    "    'Ataque con pericia, AC+5',\n",
    "    'Ataque a la defensiva, AC+7'\n",
    "]\n",
    "bonusdrop = dropdown('Tipo de ataque', tipoataque_options, tipoataque_labels)\n",
    "msgdrop = dropdown('Tipo de ataque (mensaje)', tipoataque_msgs, tipoataque_labels)"
   ]
  },
  {
   "cell_type": "code",
   "execution_count": 13,
   "metadata": {},
   "outputs": [
    {
     "name": "stdout",
     "output_type": "stream",
     "text": [
      "?{Tipo de ataque|\n",
      "  Normal, |\n",
      "  Pericias, -5[pericias]|\n",
      "  Defensa max, -9[combate defensivo]}\n"
     ]
    }
   ],
   "source": [
    "print(bonusdrop)"
   ]
  },
  {
   "cell_type": "markdown",
   "metadata": {},
   "source": [
    "# OJO\n",
    "Es necesario utilizar un placeholder en el lugar del atributo, porque Roll20 parsea en primer lugar los atributos, y se desconfigurarían"
   ]
  },
  {
   "cell_type": "code",
   "execution_count": 14,
   "metadata": {},
   "outputs": [],
   "source": [
    "atk_var = 'placeholder_atk'\n",
    "roll_ballesta = inroll([\n",
    "    dice(1,20,atk_var,'',19),\n",
    "    '1[arma buena]',\n",
    "    query('bonus'),\n",
    "])\n",
    "msg_ballesta = '\\nCrítico: 19-20 x2'\n",
    "\n",
    "roll_estoque = inroll([\n",
    "    dice(1,20,atk_var,'',18),\n",
    "    '1[arma mágica]',\n",
    "    query('bonus'),\n",
    "    bonusdrop,\n",
    "])\n",
    "msg_estoque = '\\nCrítico: 18-20 x2\\n' + msgdrop\n",
    "\n",
    "roll_daga = inroll([\n",
    "    dice(1,20,atk_var,'',19),\n",
    "    '1[arma mágica]',\n",
    "    query('bonus'),\n",
    "    bonusdrop,\n",
    "])\n",
    "msg_daga = '\\nCrítico: 19-20 x2\\n' + msgdrop"
   ]
  },
  {
   "cell_type": "code",
   "execution_count": 15,
   "metadata": {},
   "outputs": [
    {
     "name": "stdout",
     "output_type": "stream",
     "text": [
      "[[1d20cs>19+placeholder_atk+1[arma mágica]+?{bonus|0}+?{Tipo de ataque|\n",
      "  Normal, |\n",
      "  Pericias, -5[pericias]|\n",
      "  Defensa max, -9[combate defensivo]}]]\n"
     ]
    }
   ],
   "source": [
    "print(roll_daga)"
   ]
  },
  {
   "cell_type": "code",
   "execution_count": 16,
   "metadata": {},
   "outputs": [],
   "source": [
    "arma_labels=[\n",
    "    'Ballesta',\n",
    "    'Estoque',\n",
    "    'Daga'\n",
    "]\n",
    "arma_options = [\n",
    "    'Ataque con Ballesta Pesada:\\n' + roll_ballesta + msg_ballesta,\n",
    "    'Ataque con Estoque Mágico:\\n' + roll_estoque + msg_estoque,\n",
    "    'Ataque con Daga Sagrada:\\n' + roll_daga + msg_daga,\n",
    "]\n",
    "atk_drop = dropdown('Tipo de arma', arma_options, arma_labels)"
   ]
  },
  {
   "cell_type": "code",
   "execution_count": 17,
   "metadata": {},
   "outputs": [
    {
     "name": "stdout",
     "output_type": "stream",
     "text": [
      "?{Tipo de arma|\n",
      "  Ballesta, Ataque con Ballesta Pesada:\n",
      "[[1d20cs>19+placeholder_atk+1[arma buena]+?{bonus&#124;0&#125;]]\n",
      "Crítico: 19-20 x2|\n",
      "  Estoque, Ataque con Estoque Mágico:\n",
      "[[1d20cs>18+placeholder_atk+1[arma mágica]+?{bonus&#124;0&#125;+?{Tipo de ataque&#124;\n",
      "    Normal&#44; &#124;\n",
      "    Pericias&#44; -5[pericias]&#124;\n",
      "    Defensa max&#44; -9[combate defensivo]&#125;]]\n",
      "Crítico: 18-20 x2\n",
      "?{Tipo de ataque (mensaje)&#124;\n",
      "    Normal&#44; Ataque normal&#124;\n",
      "    Pericias&#44; Ataque con pericia&amp;#44; AC+5&#124;\n",
      "    Defensa max&#44; Ataque a la defensiva&amp;#44; AC+7&#125;|\n",
      "  Daga, Ataque con Daga Sagrada:\n",
      "[[1d20cs>19+placeholder_atk+1[arma mágica]+?{bonus&#124;0&#125;+?{Tipo de ataque&#124;\n",
      "    Normal&#44; &#124;\n",
      "    Pericias&#44; -5[pericias]&#124;\n",
      "    Defensa max&#44; -9[combate defensivo]&#125;]]\n",
      "Crítico: 19-20 x2\n",
      "?{Tipo de ataque (mensaje)&#124;\n",
      "    Normal&#44; Ataque normal&#124;\n",
      "    Pericias&#44; Ataque con pericia&amp;#44; AC+5&#124;\n",
      "    Defensa max&#44; Ataque a la defensiva&amp;#44; AC+7&#125;}\n"
     ]
    }
   ],
   "source": [
    "print(atk_drop)"
   ]
  },
  {
   "cell_type": "markdown",
   "metadata": {},
   "source": [
    "## Ahora ya sí\n",
    "Con la macro terminada, se puede sustituir el placeholder por el atributo bueno"
   ]
  },
  {
   "cell_type": "code",
   "execution_count": 18,
   "metadata": {},
   "outputs": [
    {
     "name": "stdout",
     "output_type": "stream",
     "text": [
      "?{Tipo de arma|\n",
      "  Ballesta, Ataque con Ballesta Pesada:\n",
      "[[1d20cs>19+[[@{Goblin|strength_mod}]]+1[arma buena]+?{bonus&#124;0&#125;]]\n",
      "Crítico: 19-20 x2|\n",
      "  Estoque, Ataque con Estoque Mágico:\n",
      "[[1d20cs>18+[[@{Goblin|strength_mod}]]+1[arma mágica]+?{bonus&#124;0&#125;+?{Tipo de ataque&#124;\n",
      "    Normal&#44; &#124;\n",
      "    Pericias&#44; -5[pericias]&#124;\n",
      "    Defensa max&#44; -9[combate defensivo]&#125;]]\n",
      "Crítico: 18-20 x2\n",
      "?{Tipo de ataque (mensaje)&#124;\n",
      "    Normal&#44; Ataque normal&#124;\n",
      "    Pericias&#44; Ataque con pericia&amp;#44; AC+5&#124;\n",
      "    Defensa max&#44; Ataque a la defensiva&amp;#44; AC+7&#125;|\n",
      "  Daga, Ataque con Daga Sagrada:\n",
      "[[1d20cs>19+[[@{Goblin|strength_mod}]]+1[arma mágica]+?{bonus&#124;0&#125;+?{Tipo de ataque&#124;\n",
      "    Normal&#44; &#124;\n",
      "    Pericias&#44; -5[pericias]&#124;\n",
      "    Defensa max&#44; -9[combate defensivo]&#125;]]\n",
      "Crítico: 19-20 x2\n",
      "?{Tipo de ataque (mensaje)&#124;\n",
      "    Normal&#44; Ataque normal&#124;\n",
      "    Pericias&#44; Ataque con pericia&amp;#44; AC+5&#124;\n",
      "    Defensa max&#44; Ataque a la defensiva&amp;#44; AC+7&#125;}\n"
     ]
    }
   ],
   "source": [
    "print(atk_drop.replace(atk_var, atribute('Goblin', 'strength_mod')))"
   ]
  },
  {
   "cell_type": "markdown",
   "metadata": {},
   "source": [
    "## Default Templates"
   ]
  },
  {
   "cell_type": "code",
   "execution_count": 19,
   "metadata": {},
   "outputs": [],
   "source": [
    "def default_temp(name = 'Ataque', fields = [['Ataque', '[[1d20]]'],]):\n",
    "    result = f'&{{template:default}} {{{{name={leveldeeper(name)}}}}}'\n",
    "    for row in fields:\n",
    "        result += f' {{{{{row[0]}={row[1]}}}}}'\n",
    "    return result"
   ]
  },
  {
   "cell_type": "code",
   "execution_count": 20,
   "metadata": {},
   "outputs": [
    {
     "data": {
      "text/plain": [
       "'&{template:default} {{name=Ataque}} {{Ataque=[[1d20]]}}'"
      ]
     },
     "execution_count": 20,
     "metadata": {},
     "output_type": "execute_result"
    }
   ],
   "source": [
    "default_temp()"
   ]
  },
  {
   "cell_type": "code",
   "execution_count": 21,
   "metadata": {},
   "outputs": [],
   "source": [
    "def default_temp_opts(name = 'Ataque', message = 'select', labels= ['opt1', 'opt2'],\n",
    "                      fields = [\n",
    "                          [['Ataque', '[[1d20+1]]'],],\n",
    "                          [['Ataque', '[[1d20+2]]'],],\n",
    "                      ]):\n",
    "    result = f'&{{template:default}} {{{{name={leveldeeper(name)}}}}}'\n",
    "    options = []\n",
    "    for ii in range(len(labels)):\n",
    "        res_ii = ''\n",
    "        opt_fields = fields[ii]\n",
    "        for row in opt_fields:\n",
    "            res_ii += f' {{{{{row[0]}={row[1]}}}}}'\n",
    "        options.append(res_ii)\n",
    "    result += dropdown(message, options, labels)\n",
    "    return result"
   ]
  },
  {
   "cell_type": "code",
   "execution_count": 22,
   "metadata": {},
   "outputs": [
    {
     "name": "stdout",
     "output_type": "stream",
     "text": [
      "&{template:default} {{name=Ataque}}?{select|\n",
      "  opt1,  {{Ataque=[[1d20+1]]&#125;&#125;|\n",
      "  opt2,  {{Ataque=[[1d20+2]]&#125;&#125;}\n"
     ]
    }
   ],
   "source": [
    "print(default_temp_opts())"
   ]
  },
  {
   "cell_type": "markdown",
   "metadata": {},
   "source": [
    "### Ejemplo: Ataques de Yuri el pícaro"
   ]
  },
  {
   "cell_type": "code",
   "execution_count": 23,
   "metadata": {},
   "outputs": [],
   "source": [
    "tipoataque_msgs = [\n",
    "    'Ataque normal',\n",
    "    'Ataque con pericia',\n",
    "    'Ataque a la defensiva'\n",
    "]\n",
    "armor = 'armor_placeholder'\n",
    "bon_fe = 'bonus_shield_placeholder'\n",
    "tipoataque_ac = [\n",
    "    f'+0: [[{armor}]]/[[{armor}+{bon_fe}[escudo de fe]]]',\n",
    "    f'+5: [[{armor}+5]]/[[{armor}+{bon_fe}[escudo de fe]+5]]',\n",
    "    f'+7: [[{armor}+7]]/[[{armor}+{bon_fe}[escudo de fe]+7]]',\n",
    "]\n",
    "\n",
    "msg_estoque = 'Crítico: 18-20 x2'\n",
    "roll_estoque_normal = inroll([\n",
    "    dice(1,20,atk_var,'',18),\n",
    "    '1[arma mágica]',\n",
    "    query('bonus')\n",
    "])\n",
    "roll_estoque_per = inroll([\n",
    "    dice(1,20,atk_var,'',18),\n",
    "    '1[arma mágica]',\n",
    "    query('bonus'),\n",
    "    '-5[pericias]'\n",
    "])\n",
    "roll_estoque_def = inroll([\n",
    "    dice(1,20,atk_var,'',18),\n",
    "    '1[arma mágica]',\n",
    "    query('bonus'),\n",
    "    '-9[defensiva]'\n",
    "])\n",
    "\n",
    "msg_daga = 'Crítico: 19-20 x2'\n",
    "roll_daga_normal = inroll([\n",
    "    dice(1,20,atk_var,'',19),\n",
    "    '1[arma mágica]',\n",
    "    query('bonus'),\n",
    "])\n",
    "roll_daga_per = inroll([\n",
    "    dice(1,20,atk_var,'',19),\n",
    "    '1[arma mágica]',\n",
    "    query('bonus'),\n",
    "    '-5[pericias]',\n",
    "])\n",
    "roll_daga_def = inroll([\n",
    "    dice(1,20,atk_var,'',19),\n",
    "    '1[arma mágica]',\n",
    "    query('bonus'),\n",
    "    '-9[defensiva]'\n",
    "])"
   ]
  },
  {
   "cell_type": "code",
   "execution_count": 24,
   "metadata": {},
   "outputs": [],
   "source": [
    "ataque_estoque = default_temp_opts('Ataque con Estoque Mágico', 'tipo', tipoataque_labels,\n",
    "                      fields = [\n",
    "                          [\n",
    "                              ['Ataque', roll_estoque_normal],\n",
    "                              ['', msg_estoque],\n",
    "                              ['.', tipoataque_msgs[0]],\n",
    "                              ['AC', tipoataque_ac[0]]\n",
    "                          ],[\n",
    "                              ['Ataque', roll_estoque_per],\n",
    "                              ['', msg_estoque],\n",
    "                              ['.', tipoataque_msgs[1]],\n",
    "                              ['AC', tipoataque_ac[1]]\n",
    "                          ],[\n",
    "                              ['Ataque', roll_estoque_def],\n",
    "                              ['', msg_estoque],\n",
    "                              ['.', tipoataque_msgs[2]],\n",
    "                              ['AC', tipoataque_ac[2]]\n",
    "                          ]\n",
    "                      ])"
   ]
  },
  {
   "cell_type": "code",
   "execution_count": 25,
   "metadata": {},
   "outputs": [],
   "source": [
    "ataque_daga = default_temp_opts('Ataque con la Daga de Ilmater', 'tipo', tipoataque_labels,\n",
    "                      fields = [\n",
    "                          [\n",
    "                              ['Ataque', roll_daga_normal],\n",
    "                              ['', msg_daga],\n",
    "                              ['.', tipoataque_msgs[0]],\n",
    "                              ['AC', tipoataque_ac[0]]\n",
    "                          ],[\n",
    "                              ['Ataque', roll_daga_per],\n",
    "                              ['', msg_daga],\n",
    "                              ['.', tipoataque_msgs[1]],\n",
    "                              ['AC', tipoataque_ac[1]]\n",
    "                          ],[\n",
    "                              ['Ataque', roll_daga_def],\n",
    "                              ['', msg_daga],\n",
    "                              ['.', tipoataque_msgs[2]],\n",
    "                              ['AC', tipoataque_ac[2]]\n",
    "                          ]\n",
    "                      ])"
   ]
  },
  {
   "cell_type": "code",
   "execution_count": 26,
   "metadata": {},
   "outputs": [],
   "source": [
    "msg_ballesta = 'Crítico: 19-20 x2'\n",
    "ataque_ballesta = default_temp('Ataque con Ballesta', [\n",
    "                              ['Ataque', roll_ballesta],\n",
    "                              ['', msg_ballesta],\n",
    "                          ])"
   ]
  },
  {
   "cell_type": "code",
   "execution_count": 27,
   "metadata": {},
   "outputs": [],
   "source": [
    "arma_labels=[\n",
    "    'Ballesta',\n",
    "    'Estoque',\n",
    "    'Daga'\n",
    "]\n",
    "arma_options = [\n",
    "    ataque_ballesta,\n",
    "    ataque_estoque,\n",
    "    ataque_daga,\n",
    "]\n",
    "atk_drop = dropdown('Tipo de arma', arma_options, arma_labels)"
   ]
  },
  {
   "cell_type": "code",
   "execution_count": 28,
   "metadata": {},
   "outputs": [
    {
     "name": "stdout",
     "output_type": "stream",
     "text": [
      "?{Tipo de arma|\n",
      "  Ballesta, &amp;{template:default&#125; {{name=Ataque con Ballesta&#125;&#125; {{Ataque=[[1d20cs>19+[[@{Yuri|rangedattackbonus}]]+1[arma buena]+?{bonus&#124;0&#125;]]&#125;&#125; {{=Crítico: 19-20 x2&#125;&#125;|\n",
      "  Estoque, &amp;{template:default&#125; {{name=Ataque con Estoque Mágico&#125;&#125;?{tipo&#124;\n",
      "    Normal&#44;  {{Ataque=[[1d20cs>18+[[@{Yuri|rangedattackbonus}]]+1[arma mágica]+?{bonus&amp;#124;0&amp;#125;]]&amp;#125;&amp;#125; {{=Crítico: 18-20 x2&amp;#125;&amp;#125; {{.=Ataque normal&amp;#125;&amp;#125; {{AC=+0: [[[[@{Yuri|armorclass}]]]]/[[[[@{Yuri|armorclass}]]+[[@{Yuri|bonus_ac_fe}]][escudo de fe]]]&amp;#125;&amp;#125;&#124;\n",
      "    Pericias&#44;  {{Ataque=[[1d20cs>18+[[@{Yuri|rangedattackbonus}]]+1[arma mágica]+?{bonus&amp;#124;0&amp;#125;+-5[pericias]]]&amp;#125;&amp;#125; {{=Crítico: 18-20 x2&amp;#125;&amp;#125; {{.=Ataque con pericia&amp;#125;&amp;#125; {{AC=+5: [[[[@{Yuri|armorclass}]]+5]]/[[[[@{Yuri|armorclass}]]+[[@{Yuri|bonus_ac_fe}]][escudo de fe]+5]]&amp;#125;&amp;#125;&#124;\n",
      "    Defensa max&#44;  {{Ataque=[[1d20cs>18+[[@{Yuri|rangedattackbonus}]]+1[arma mágica]+?{bonus&amp;#124;0&amp;#125;+-9[defensiva]]]&amp;#125;&amp;#125; {{=Crítico: 18-20 x2&amp;#125;&amp;#125; {{.=Ataque a la defensiva&amp;#125;&amp;#125; {{AC=+7: [[[[@{Yuri|armorclass}]]+7]]/[[[[@{Yuri|armorclass}]]+[[@{Yuri|bonus_ac_fe}]][escudo de fe]+7]]&amp;#125;&amp;#125;&#125;|\n",
      "  Daga, &amp;{template:default&#125; {{name=Ataque con la Daga de Ilmater&#125;&#125;?{tipo&#124;\n",
      "    Normal&#44;  {{Ataque=[[1d20cs>19+[[@{Yuri|rangedattackbonus}]]+1[arma mágica]+?{bonus&amp;#124;0&amp;#125;]]&amp;#125;&amp;#125; {{=Crítico: 19-20 x2&amp;#125;&amp;#125; {{.=Ataque normal&amp;#125;&amp;#125; {{AC=+0: [[[[@{Yuri|armorclass}]]]]/[[[[@{Yuri|armorclass}]]+[[@{Yuri|bonus_ac_fe}]][escudo de fe]]]&amp;#125;&amp;#125;&#124;\n",
      "    Pericias&#44;  {{Ataque=[[1d20cs>19+[[@{Yuri|rangedattackbonus}]]+1[arma mágica]+?{bonus&amp;#124;0&amp;#125;+-5[pericias]]]&amp;#125;&amp;#125; {{=Crítico: 19-20 x2&amp;#125;&amp;#125; {{.=Ataque con pericia&amp;#125;&amp;#125; {{AC=+5: [[[[@{Yuri|armorclass}]]+5]]/[[[[@{Yuri|armorclass}]]+[[@{Yuri|bonus_ac_fe}]][escudo de fe]+5]]&amp;#125;&amp;#125;&#124;\n",
      "    Defensa max&#44;  {{Ataque=[[1d20cs>19+[[@{Yuri|rangedattackbonus}]]+1[arma mágica]+?{bonus&amp;#124;0&amp;#125;+-9[defensiva]]]&amp;#125;&amp;#125; {{=Crítico: 19-20 x2&amp;#125;&amp;#125; {{.=Ataque a la defensiva&amp;#125;&amp;#125; {{AC=+7: [[[[@{Yuri|armorclass}]]+7]]/[[[[@{Yuri|armorclass}]]+[[@{Yuri|bonus_ac_fe}]][escudo de fe]+7]]&amp;#125;&amp;#125;&#125;}\n"
     ]
    }
   ],
   "source": [
    "print(atk_drop.replace(atk_var, atribute('Yuri', 'rangedattackbonus')).replace(armor, atribute('Yuri', 'armorclass')).replace(bon_fe, atribute('Yuri', 'bonus_ac_fe')))"
   ]
  },
  {
   "cell_type": "markdown",
   "metadata": {},
   "source": [
    "## Minimo y máximo de n valores"
   ]
  },
  {
   "cell_type": "code",
   "execution_count": 29,
   "metadata": {},
   "outputs": [],
   "source": [
    "def minval(values = ['1','3']):\n",
    "    result = f'[[{{{values[0]}'\n",
    "    for val in values[1:]:\n",
    "        result += f',{val}'\n",
    "    result += '}kl1]]'\n",
    "    return result\n",
    "def maxvalval(values = ['1','3']):\n",
    "    result = f'[[{{{values[0]}'\n",
    "    for val in values[1:]:\n",
    "        result += f',{val}'\n",
    "    result += '}kh1]]'\n",
    "    return result"
   ]
  },
  {
   "cell_type": "code",
   "execution_count": 30,
   "metadata": {},
   "outputs": [
    {
     "data": {
      "text/plain": [
       "'[[{1,3}kl1]]'"
      ]
     },
     "execution_count": 30,
     "metadata": {},
     "output_type": "execute_result"
    }
   ],
   "source": [
    "minval()"
   ]
  },
  {
   "cell_type": "markdown",
   "metadata": {},
   "source": [
    "### Ejemplo: conjuro de curación"
   ]
  },
  {
   "cell_type": "code",
   "execution_count": 31,
   "metadata": {},
   "outputs": [],
   "source": [
    "cleric_lvl = 'cleric_lvl_placeholder'\n",
    "cleric_bonus = 'cleric_bonus_placeholder'\n",
    "launch_lvl = cleric_lvl + '+' + cleric_bonus\n",
    "\n",
    "drop_ring = dropdown('Cargas del Anillo', ['0','2d6','3d6','4d6'],['0','1','2','3'])\n",
    "\n",
    "\n",
    "heal_0 = inroll([\n",
    "    '1',\n",
    "    drop_ring\n",
    "])\n",
    "heal_1 = inroll([\n",
    "    '1d8',\n",
    "    minval([launch_lvl, 5],),\n",
    "    drop_ring\n",
    "])\n",
    "heal_2 = inroll([\n",
    "    '2d8',\n",
    "    minval([launch_lvl, 10],),\n",
    "    drop_ring\n",
    "])\n",
    "heal_3 = inroll([\n",
    "    '3d8',\n",
    "    minval([launch_lvl, 15],),\n",
    "    drop_ring\n",
    "])\n",
    "heal_4 = inroll([\n",
    "    '4d8',\n",
    "    minval([launch_lvl, 20],),\n",
    "    drop_ring\n",
    "])\n",
    "heal_1_group = inroll([\n",
    "    '1d8',\n",
    "    minval([launch_lvl, 25],),\n",
    "    drop_ring\n",
    "])\n",
    "heal_2_group = inroll([\n",
    "    '2d8',\n",
    "    minval([launch_lvl, 30],),\n",
    "    drop_ring\n",
    "])\n",
    "heal_3_group = inroll([\n",
    "    '3d8',\n",
    "    minval([launch_lvl, 35],),\n",
    "    drop_ring\n",
    "])\n",
    "heal_4_group = inroll([\n",
    "    '4d8',\n",
    "    minval([launch_lvl, 40],),\n",
    "    drop_ring\n",
    "])\n",
    "heal_wand = default_temp_opts('Curación con Varita',\n",
    "                              'nivel',\n",
    "                              ['1','2','3','4'],\n",
    "                              [\n",
    "                                  [['Varita de Curar Heridas Leves:', '[[1d8+1]]'],],\n",
    "                                  [['Varita de Curar Heridas Moderadas:', '[[2d8+3]]'],],\n",
    "                                  [['Varita de Curar Heridas Graves:', '[[3d8+5]]'],],\n",
    "                                  [['Varita de Curar Heridas Críticas:', '[[4d8+7]]'],],\n",
    "                              ]\n",
    "                             )\n",
    "heal_pot = default_temp_opts('Poción de Curación',\n",
    "                              'nivel',\n",
    "                              ['1','2','3','4'],\n",
    "                              [\n",
    "                                  [['Poción de Curar Heridas Leves:', '[[1d8+1]]'],],\n",
    "                                  [['Poción de Curar Heridas Moderadas:', '[[2d8+3]]'],],\n",
    "                                  [['Poción de Curar Heridas Graves:', '[[3d8+5]]'],],\n",
    "                                  [['Poción de Curar Heridas Críticas:', '[[4d8+7]]'],],\n",
    "                              ]\n",
    "                             )\n",
    "heal_spell = default_temp_opts('Conjuro de Curación',\n",
    "                              'nivel',\n",
    "                              ['0','1','2','3','4'],\n",
    "                              [\n",
    "                                  [['Curar Heridas Menores:', heal_0],],\n",
    "                                  [['Curar Heridas Leves:', heal_1],],\n",
    "                                  [['Curar Heridas Moderadas:', heal_2],],\n",
    "                                  [['Curar Heridas Graves:', heal_3],],\n",
    "                                  [['Curar Heridas Críticas:', heal_4],],\n",
    "                              ]\n",
    "                             )\n",
    "heal_spell_group = default_temp_opts('Conjuro de Curación en Grupo',\n",
    "                              'nivel',\n",
    "                              ['1','2','3','4'],\n",
    "                              [\n",
    "                                  [['Curar Heridas Leves:', heal_1_group],],\n",
    "                                  [['Curar Heridas Moderadas:', heal_2_group],],\n",
    "                                  [['Curar Heridas Graves:', heal_3_group],],\n",
    "                                  [['Curar Heridas Críticas:', heal_4_group],],\n",
    "                              ]\n",
    "                             )\n",
    "heal_macro = dropdown('Tipo',\n",
    "                      [heal_wand, heal_pot, heal_spell, heal_spell_group],\n",
    "                      ['Varita', 'Poción', 'Conjuro', 'Conjuro de Grupo'])"
   ]
  },
  {
   "cell_type": "code",
   "execution_count": 32,
   "metadata": {},
   "outputs": [
    {
     "name": "stdout",
     "output_type": "stream",
     "text": [
      "?{Tipo|\n",
      "  Varita, &amp;{template:default&#125; {{name=Curación con Varita&#125;&#125;?{nivel&#124;\n",
      "    1&#44;  {{Varita de Curar Heridas Leves:=[[1d8+1]]&amp;#125;&amp;#125;&#124;\n",
      "    2&#44;  {{Varita de Curar Heridas Moderadas:=[[2d8+3]]&amp;#125;&amp;#125;&#124;\n",
      "    3&#44;  {{Varita de Curar Heridas Graves:=[[3d8+5]]&amp;#125;&amp;#125;&#124;\n",
      "    4&#44;  {{Varita de Curar Heridas Críticas:=[[4d8+7]]&amp;#125;&amp;#125;&#125;|\n",
      "  Poción, &amp;{template:default&#125; {{name=Poción de Curación&#125;&#125;?{nivel&#124;\n",
      "    1&#44;  {{Poción de Curar Heridas Leves:=[[1d8+1]]&amp;#125;&amp;#125;&#124;\n",
      "    2&#44;  {{Poción de Curar Heridas Moderadas:=[[2d8+3]]&amp;#125;&amp;#125;&#124;\n",
      "    3&#44;  {{Poción de Curar Heridas Graves:=[[3d8+5]]&amp;#125;&amp;#125;&#124;\n",
      "    4&#44;  {{Poción de Curar Heridas Críticas:=[[4d8+7]]&amp;#125;&amp;#125;&#125;|\n",
      "  Conjuro, &amp;{template:default&#125; {{name=Conjuro de Curación&#125;&#125;?{nivel&#124;\n",
      "    0&#44;  {{Curar Heridas Menores:=[[1+?{Cargas del Anillo&amp;#124;\n",
      "      0&amp;#44; 0&amp;#124;\n",
      "      1&amp;#44; 2d6&amp;#124;\n",
      "      2&amp;#44; 3d6&amp;#124;\n",
      "      3&amp;#44; 4d6&amp;#125;]]&amp;#125;&amp;#125;&#124;\n",
      "    1&#44;  {{Curar Heridas Leves:=[[1d8+[[{[[@{Yuri|cleric_lvl_caster}]]+[[@{Yuri|bonus_lvl_heal}]]&amp;#44;5&amp;#125;kl1]]+?{Cargas del Anillo&amp;#124;\n",
      "      0&amp;#44; 0&amp;#124;\n",
      "      1&amp;#44; 2d6&amp;#124;\n",
      "      2&amp;#44; 3d6&amp;#124;\n",
      "      3&amp;#44; 4d6&amp;#125;]]&amp;#125;&amp;#125;&#124;\n",
      "    2&#44;  {{Curar Heridas Moderadas:=[[2d8+[[{[[@{Yuri|cleric_lvl_caster}]]+[[@{Yuri|bonus_lvl_heal}]]&amp;#44;10&amp;#125;kl1]]+?{Cargas del Anillo&amp;#124;\n",
      "      0&amp;#44; 0&amp;#124;\n",
      "      1&amp;#44; 2d6&amp;#124;\n",
      "      2&amp;#44; 3d6&amp;#124;\n",
      "      3&amp;#44; 4d6&amp;#125;]]&amp;#125;&amp;#125;&#124;\n",
      "    3&#44;  {{Curar Heridas Graves:=[[3d8+[[{[[@{Yuri|cleric_lvl_caster}]]+[[@{Yuri|bonus_lvl_heal}]]&amp;#44;15&amp;#125;kl1]]+?{Cargas del Anillo&amp;#124;\n",
      "      0&amp;#44; 0&amp;#124;\n",
      "      1&amp;#44; 2d6&amp;#124;\n",
      "      2&amp;#44; 3d6&amp;#124;\n",
      "      3&amp;#44; 4d6&amp;#125;]]&amp;#125;&amp;#125;&#124;\n",
      "    4&#44;  {{Curar Heridas Críticas:=[[4d8+[[{[[@{Yuri|cleric_lvl_caster}]]+[[@{Yuri|bonus_lvl_heal}]]&amp;#44;20&amp;#125;kl1]]+?{Cargas del Anillo&amp;#124;\n",
      "      0&amp;#44; 0&amp;#124;\n",
      "      1&amp;#44; 2d6&amp;#124;\n",
      "      2&amp;#44; 3d6&amp;#124;\n",
      "      3&amp;#44; 4d6&amp;#125;]]&amp;#125;&amp;#125;&#125;|\n",
      "  Conjuro de Grupo, &amp;{template:default&#125; {{name=Conjuro de Curación en Grupo&#125;&#125;?{nivel&#124;\n",
      "    1&#44;  {{Curar Heridas Leves:=[[1d8+[[{[[@{Yuri|cleric_lvl_caster}]]+[[@{Yuri|bonus_lvl_heal}]]&amp;#44;25&amp;#125;kl1]]+?{Cargas del Anillo&amp;#124;\n",
      "      0&amp;#44; 0&amp;#124;\n",
      "      1&amp;#44; 2d6&amp;#124;\n",
      "      2&amp;#44; 3d6&amp;#124;\n",
      "      3&amp;#44; 4d6&amp;#125;]]&amp;#125;&amp;#125;&#124;\n",
      "    2&#44;  {{Curar Heridas Moderadas:=[[2d8+[[{[[@{Yuri|cleric_lvl_caster}]]+[[@{Yuri|bonus_lvl_heal}]]&amp;#44;30&amp;#125;kl1]]+?{Cargas del Anillo&amp;#124;\n",
      "      0&amp;#44; 0&amp;#124;\n",
      "      1&amp;#44; 2d6&amp;#124;\n",
      "      2&amp;#44; 3d6&amp;#124;\n",
      "      3&amp;#44; 4d6&amp;#125;]]&amp;#125;&amp;#125;&#124;\n",
      "    3&#44;  {{Curar Heridas Graves:=[[3d8+[[{[[@{Yuri|cleric_lvl_caster}]]+[[@{Yuri|bonus_lvl_heal}]]&amp;#44;35&amp;#125;kl1]]+?{Cargas del Anillo&amp;#124;\n",
      "      0&amp;#44; 0&amp;#124;\n",
      "      1&amp;#44; 2d6&amp;#124;\n",
      "      2&amp;#44; 3d6&amp;#124;\n",
      "      3&amp;#44; 4d6&amp;#125;]]&amp;#125;&amp;#125;&#124;\n",
      "    4&#44;  {{Curar Heridas Críticas:=[[4d8+[[{[[@{Yuri|cleric_lvl_caster}]]+[[@{Yuri|bonus_lvl_heal}]]&amp;#44;40&amp;#125;kl1]]+?{Cargas del Anillo&amp;#124;\n",
      "      0&amp;#44; 0&amp;#124;\n",
      "      1&amp;#44; 2d6&amp;#124;\n",
      "      2&amp;#44; 3d6&amp;#124;\n",
      "      3&amp;#44; 4d6&amp;#125;]]&amp;#125;&amp;#125;&#125;}\n"
     ]
    }
   ],
   "source": [
    "print(heal_macro.replace(cleric_lvl, atribute('Yuri', 'cleric_lvl_caster')).replace(cleric_bonus, atribute('Yuri', 'bonus_lvl_heal')))"
   ]
  },
  {
   "cell_type": "code",
   "execution_count": null,
   "metadata": {},
   "outputs": [],
   "source": []
  }
 ],
 "metadata": {
  "kernelspec": {
   "display_name": "Python 3",
   "language": "python",
   "name": "python3"
  },
  "language_info": {
   "codemirror_mode": {
    "name": "ipython",
    "version": 3
   },
   "file_extension": ".py",
   "mimetype": "text/x-python",
   "name": "python",
   "nbconvert_exporter": "python",
   "pygments_lexer": "ipython3",
   "version": "3.7.7"
  }
 },
 "nbformat": 4,
 "nbformat_minor": 4
}
